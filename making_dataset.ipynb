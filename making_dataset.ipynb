{
 "cells": [
  {
   "cell_type": "code",
   "execution_count": 2,
   "id": "90718b7c",
   "metadata": {},
   "outputs": [],
   "source": [
    "from PIL import Image\n",
    "import glob\n",
    "import os\n",
    "\n",
    "images_path = \"/media/sohaib/additional_/DataScience/super_resolution/dataset/dataset3/images_4k/val/hr/\"\n",
    "images = glob.glob(images_path+\"*.*g\")\n",
    "save_here = \"/media/sohaib/additional_/DataScience/super_resolution/dataset/dataset3/images_4k/val/lr/\"\n",
    "\n",
    "count = 0\n",
    "for i in images:\n",
    "    image = Image.open(i).convert(\"RGB\")\n",
    "    h, w  = image.size\n",
    "    _, image_name = i.rsplit(\"/\",1)\n",
    "    name, ext = image_name.rsplit(\".\",1)\n",
    "    save_name = f\"{save_here}{name}.{ext}\"\n",
    "    image.resize((150,150)).save(save_name)\n",
    "        \n",
    "    \n"
   ]
  },
  {
   "cell_type": "code",
   "execution_count": null,
   "id": "6f98bd26",
   "metadata": {},
   "outputs": [],
   "source": []
  }
 ],
 "metadata": {
  "kernelspec": {
   "display_name": "Python 3",
   "language": "python",
   "name": "python3"
  },
  "language_info": {
   "codemirror_mode": {
    "name": "ipython",
    "version": 3
   },
   "file_extension": ".py",
   "mimetype": "text/x-python",
   "name": "python",
   "nbconvert_exporter": "python",
   "pygments_lexer": "ipython3",
   "version": "3.7.10"
  }
 },
 "nbformat": 4,
 "nbformat_minor": 5
}
